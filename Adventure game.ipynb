{
 "cells": [
  {
   "cell_type": "code",
   "execution_count": 4,
   "id": "f702e066",
   "metadata": {},
   "outputs": [
    {
     "name": "stdout",
     "output_type": "stream",
     "text": [
      "Type your name: shiv\n",
      "Welcome shiv to this adventure!\n",
      "You are on a dirt road, it has come to an end and you can go left or right. Which way would you like to go? right\n",
      "YOu come to a bridge, it looks wobbly, do you want to cross it or head back (cross/back)? back\n",
      "You go back and lose.\n",
      "Thank you for trying shiv\n"
     ]
    }
   ],
   "source": [
    "name = input(\"Type your name: \")\n",
    "print(\"Welcome\", name, \"to this adventure!\")\n",
    "\n",
    "answer=input(\"You are on a dirt road, it has come to an end and you can go left or right. Which way would you like to go? \").lower()\n",
    "\n",
    "if answer == \"left\":\n",
    "    answer = input(\"You come to a river, you can walk around it or swim across? Type walk to walk around and swim to swim acorss: \")\n",
    "    \n",
    "    if answer == \"swim\":\n",
    "        print(\"You swam across and were eaten by an alligator.\")\n",
    "    \n",
    "    elif smwer == \"walk\":\n",
    "        print(\"You walked for many miles, ran out of water and you lost the game.\")\n",
    "        \n",
    "    else:\n",
    "        print(\"Not a valid option. You lost.\")\n",
    "elif answer == \"right\":\n",
    "    answer = input(\"YOu come to a bridge, it looks wobbly, do you want to cross it or head back (cross/back)? \")\n",
    "    \n",
    "    if answer == \"back\":\n",
    "        print(\"You go back and lose.\")\n",
    "        \n",
    "    elif answer == \"cross\":\n",
    "        answer = input(\"You cross the bridge and meet aa stranger. Do you want to talk to them (yes/no)? \")\n",
    "        \n",
    "        if answer == \"yes\":\n",
    "            print(\"You talk to the stranger and they give you gold. You WIN!\")\n",
    "            \n",
    "        elif answer == \"no\":\n",
    "            print(\"YOu ignore the stanger and they are offended, inturn u loose.\")\n",
    "            \n",
    "        else:\n",
    "            print(\"Not a valid option. You lost.\")\n",
    "else:\n",
    "    print(\"Not a valid option. You lost.\")\n",
    "    \n",
    "print(\"Thank you for trying\", name)    "
   ]
  },
  {
   "cell_type": "code",
   "execution_count": null,
   "id": "036394bd",
   "metadata": {},
   "outputs": [],
   "source": []
  }
 ],
 "metadata": {
  "kernelspec": {
   "display_name": "Python 3 (ipykernel)",
   "language": "python",
   "name": "python3"
  },
  "language_info": {
   "codemirror_mode": {
    "name": "ipython",
    "version": 3
   },
   "file_extension": ".py",
   "mimetype": "text/x-python",
   "name": "python",
   "nbconvert_exporter": "python",
   "pygments_lexer": "ipython3",
   "version": "3.11.5"
  }
 },
 "nbformat": 4,
 "nbformat_minor": 5
}
